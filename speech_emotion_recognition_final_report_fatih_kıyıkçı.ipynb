{
  "nbformat": 4,
  "nbformat_minor": 0,
  "metadata": {
    "colab": {
      "name": "Emotion Recognition.ipynb",
      "provenance": [],
      "collapsed_sections": []
    },
    "kernelspec": {
      "name": "python3",
      "display_name": "Python 3"
    }
  },
  "cells": [
    {
      "cell_type": "code",
      "metadata": {
        "id": "2rASo_OETTMZ",
        "colab_type": "code",
        "colab": {}
      },
      "source": [
        "!pip install librosa soundfile numpy sklearn\n",
        "!pip install SpeechRecognition\n",
        "!apt-get install libasound-dev portaudio19-dev libportaudio2 libportaudiocpp0\n",
        "!apt-get install ffmpeg libav-tools\n",
        "!pip install pyaudio\n",
        "!pip install xgboost"
      ],
      "execution_count": 0,
      "outputs": []
    },
    {
      "cell_type": "code",
      "metadata": {
        "id": "PtWxU64WTa_X",
        "colab_type": "code",
        "colab": {}
      },
      "source": [
        "import librosa\n",
        "import soundfile\n",
        "import os, glob, pickle\n",
        "import numpy as np\n",
        "import glob\n",
        "from sklearn.model_selection import train_test_split\n",
        "from sklearn.metrics import accuracy_score\n",
        "from google.colab import drive\n",
        "import speech_recognition as sr\n",
        "import pandas as pd"
      ],
      "execution_count": 0,
      "outputs": []
    },
    {
      "cell_type": "code",
      "metadata": {
        "id": "dyA6Bi1j5t_h",
        "colab_type": "code",
        "outputId": "040cc299-89b5-45dd-b77f-136045f44876",
        "colab": {
          "base_uri": "https://localhost:8080/",
          "height": 34
        }
      },
      "source": [
        "from google.colab import drive\n",
        "drive.mount('/content/drive')"
      ],
      "execution_count": 0,
      "outputs": [
        {
          "output_type": "stream",
          "text": [
            "Drive already mounted at /content/drive; to attempt to forcibly remount, call drive.mount(\"/content/drive\", force_remount=True).\n"
          ],
          "name": "stdout"
        }
      ]
    },
    {
      "cell_type": "code",
      "metadata": {
        "id": "9QP3eNDxbQC3",
        "colab_type": "code",
        "colab": {}
      },
      "source": [
        "#Data Link : https://zenodo.org/record/1188976#.XrBhw_IzY5k\n",
        "data_folder = \"/content/drive/My Drive/speech-emotion-recognition-ravdess-data\"\n",
        "data_folder2 = \"/content/drive/My Drive/speech-emotion-recognition-tess-data\"\n",
        "test_folder = \"/content/drive/My Drive/speech-emotion-recognition-test\"\n",
        "folders = os.listdir(data_folder)"
      ],
      "execution_count": 0,
      "outputs": []
    },
    {
      "cell_type": "code",
      "metadata": {
        "id": "JDCaUpXufDaS",
        "colab_type": "code",
        "colab": {}
      },
      "source": [
        "emotions = {\n",
        "  '01':'neutral',\n",
        "  '02':'calm',\n",
        "  '03':'happy',\n",
        "  '04':'sad',\n",
        "  '05':'angry',\n",
        "  '06':'fearful',\n",
        "  '07':'disgust',\n",
        "  '08':'surprised'\n",
        "}\n",
        "classes = {\n",
        "  'calm':'calm',\n",
        "  'happy':'happy',\n",
        "  'sad':'sad',\n",
        "  'angry':'angry',\n",
        "  'fearful':'fearful',\n",
        "  'surprised':'surprised'\n",
        "}\n",
        "\n",
        "unobserved_emotions = ['neutral', 'disgust']\n"
      ],
      "execution_count": 0,
      "outputs": []
    },
    {
      "cell_type": "code",
      "metadata": {
        "id": "7wSqam577f-U",
        "colab_type": "code",
        "colab": {}
      },
      "source": [
        "def noise(data):\n",
        "    noise_amp = 0.05*np.random.uniform()*np.amax(data)   # more noise reduce the value to 0.5\n",
        "    data = data.astype('float64') + noise_amp * np.random.normal(size=data.shape[0])\n",
        "    return data"
      ],
      "execution_count": 0,
      "outputs": []
    },
    {
      "cell_type": "code",
      "metadata": {
        "id": "wppimgiEdQzk",
        "colab_type": "code",
        "colab": {}
      },
      "source": [
        "def extract_feature(file_name, mfcc, mel):\n",
        "  with soundfile.SoundFile(file_name) as sound_file:\n",
        "    X = sound_file.read(dtype = \"float32\")          # read sound as float\n",
        "    X = noise(X)\n",
        "    sample_rate = sound_file.samplerate\n",
        "    result = np.array([])\n",
        "    if mfcc:\n",
        "        mfccs = np.mean(librosa.feature.mfcc(y = X, sr = sample_rate, n_mfcc = 30).T, axis = 0)\n",
        "        result = np.hstack((result, mfccs))     # create matrix\n",
        "    \n",
        "    if mel:\n",
        "        mel=np.mean(librosa.feature.melspectrogram(X, sr=sample_rate).T,axis=0)\n",
        "        result=np.hstack((result, mel))\n",
        "  return result"
      ],
      "execution_count": 0,
      "outputs": []
    },
    {
      "cell_type": "code",
      "metadata": {
        "id": "6odwD_bBcPaD",
        "colab_type": "code",
        "colab": {}
      },
      "source": [
        "def load_data(test_size = 0.2):\n",
        "  x,y = [],[]\n",
        "  for file in glob.glob(data_folder+\"/Actor_*/*.wav\"):\n",
        "      file_name = os.path.basename(file)\n",
        "      emotion = emotions[file_name.split(\"-\")[2]]\n",
        "      if emotion in unobserved_emotions:\n",
        "          continue\n",
        "      feature = extract_feature(file, mfcc = True, mel= False)\n",
        "      x.append(feature)\n",
        "      y.append(emotion)\n",
        "\n",
        "  for file in glob.glob(data_folder2+\"/*/*/*.wav\"):\n",
        "    file_name = os.path.basename(file)\n",
        "    emotion = file_name.split(\"_\")[0]\n",
        "    if emotion in unobserved_emotions:\n",
        "        continue\n",
        "    feature = extract_feature(file, mfcc = True, mel=False)\n",
        "    x.append(feature)\n",
        "    y.append(emotion)\n",
        "  return train_test_split(np.array(x), y, test_size = test_size, random_state = 9)"
      ],
      "execution_count": 0,
      "outputs": []
    },
    {
      "cell_type": "code",
      "metadata": {
        "id": "t8RbuYAKoyho",
        "colab_type": "code",
        "colab": {}
      },
      "source": [
        "def load_data_test():\n",
        "  x,y = [],[]\n",
        "  for file in glob.glob(test_folder+\"/*.wav\"):\n",
        "      file_name = os.path.basename(file)\n",
        "      emotion = file_name.split(\"_\")[0]\n",
        "      if emotion in unobserved_emotions:\n",
        "          continue\n",
        "      feature = extract_feature(file, mfcc = True, mel= False)\n",
        "      x.append(feature)\n",
        "      y.append(emotion)\n",
        "  return np.array(x), y"
      ],
      "execution_count": 0,
      "outputs": []
    },
    {
      "cell_type": "code",
      "metadata": {
        "id": "bVdhcnuRfHnk",
        "colab_type": "code",
        "colab": {}
      },
      "source": [
        "x_train,x_test,y_train,y_test = load_data(test_size = 0.20)"
      ],
      "execution_count": 0,
      "outputs": []
    },
    {
      "cell_type": "code",
      "metadata": {
        "id": "iIEDxYK6hGik",
        "colab_type": "code",
        "colab": {}
      },
      "source": [
        "print((x_train.shape[0], x_test.shape[0]))\n",
        "print(f'Features extracted: {x_train.shape[1]}')"
      ],
      "execution_count": 0,
      "outputs": []
    },
    {
      "cell_type": "code",
      "metadata": {
        "id": "f5uLZDNgh-re",
        "colab_type": "code",
        "colab": {}
      },
      "source": [
        "from sklearn.neural_network import MLPClassifier\n",
        "MLP = MLPClassifier(alpha = 0.01, batch_size = 32, hidden_layer_sizes = (64,32,32,16,8), learning_rate = 'adaptive', max_iter = 215)\n"
      ],
      "execution_count": 0,
      "outputs": []
    },
    {
      "cell_type": "code",
      "metadata": {
        "id": "Z3ZXiTrWEb8G",
        "colab_type": "code",
        "colab": {}
      },
      "source": [
        "from xgboost import XGBClassifier\n",
        "xgb = XGBClassifier(colsample_bytree=0.2, gamma=0.0468, \n",
        "                             learning_rate=0.1, max_depth=4, \n",
        "                             min_child_weight=1.7817, n_estimators=100,\n",
        "                             reg_alpha=0.4640, reg_lambda=1.25,\n",
        "                             subsample=0.2, silent=0,\n",
        "                             random_state =7, nthread = -1)"
      ],
      "execution_count": 0,
      "outputs": []
    },
    {
      "cell_type": "code",
      "metadata": {
        "id": "yEY8R9iCiCX8",
        "colab_type": "code",
        "outputId": "74e2b302-968a-40d4-a249-277728b51a4f",
        "colab": {
          "base_uri": "https://localhost:8080/",
          "height": 298
        }
      },
      "source": [
        "MLP.fit(x_train, y_train)\n",
        "train_pred = MLP.predict(x_test)\n",
        "# evaluate predictions\n",
        "accuracy = accuracy_score(y_test, train_pred)\n",
        "print(\"accuracy: %.2f%%\" % (accuracy))\n",
        "#get results\n",
        "x_axis = range(0, MLP.n_iter_)\n",
        "fig, ax = plt.subplots()\n",
        "ax.plot(x_axis, MLP.loss_curve_, label='Train')\n",
        "ax.legend()\n",
        "plt.ylabel('Classification Error')\n",
        "plt.title('MLP Classification Error')\n",
        "plt.show()"
      ],
      "execution_count": 0,
      "outputs": [
        {
          "output_type": "stream",
          "text": [
            "accuracy: 0.83%\n"
          ],
          "name": "stdout"
        },
        {
          "output_type": "display_data",
          "data": {
            "image/png": "[encoded data removed]",
            "text/plain": [
              "<Figure size 432x288 with 1 Axes>"
            ]
          },
          "metadata": {
            "tags": [],
            "needs_background": "light"
          }
        }
      ]
    },
    {
      "cell_type": "code",
      "metadata": {
        "id": "TCbSXSnsRRmH",
        "colab_type": "code",
        "outputId": "ee2888d5-e3c1-44de-e824-1483eb8a27b3",
        "colab": {
          "base_uri": "https://localhost:8080/",
          "height": 1000
        }
      },
      "source": [
        "import matplotlib.pyplot as plt\n",
        "eval_set = [(x_train, y_train), (x_test, y_test)]\n",
        "xgb.fit(x_train, y_train, eval_metric=[\"merror\"], eval_set=eval_set, verbose=True)\n",
        "train_pred = xgb.predict(x_test)\n",
        "# evaluate predictions\n",
        "accuracy = accuracy_score(y_test, train_pred)\n",
        "print(\"accuracy: %.2f%%\" % (accuracy))\n",
        "#get results\n",
        "results = xgb.evals_result()\n",
        "epochs = len(results['validation_0']['merror'])\n",
        "x_axis = range(0, epochs)\n",
        "fig, ax = plt.subplots()\n",
        "ax.plot(x_axis, results['validation_0']['merror'], label='Train')\n",
        "ax.plot(x_axis, results['validation_1']['merror'], label='Test')\n",
        "ax.legend()\n",
        "plt.ylabel('Classification Error')\n",
        "plt.title('XGBoost Classification Error')\n",
        "plt.show()"
      ],
      "execution_count": 0,
      "outputs": [
        {
          "output_type": "stream",
          "text": [
            "[0]\tvalidation_0-merror:0.405791\tvalidation_1-merror:0.472266\n",
            "[1]\tvalidation_0-merror:0.349465\tvalidation_1-merror:0.394612\n",
            "[2]\tvalidation_0-merror:0.302658\tvalidation_1-merror:0.350238\n",
            "[3]\tvalidation_0-merror:0.280841\tvalidation_1-merror:0.313788\n",
            "[4]\tvalidation_0-merror:0.267354\tvalidation_1-merror:0.29477\n",
            "[5]\tvalidation_0-merror:0.257438\tvalidation_1-merror:0.275753\n",
            "[6]\tvalidation_0-merror:0.257041\tvalidation_1-merror:0.282092\n",
            "[7]\tvalidation_0-merror:0.254264\tvalidation_1-merror:0.286846\n",
            "[8]\tvalidation_0-merror:0.245141\tvalidation_1-merror:0.267829\n",
            "[9]\tvalidation_0-merror:0.241967\tvalidation_1-merror:0.272583\n",
            "[10]\tvalidation_0-merror:0.239191\tvalidation_1-merror:0.280507\n",
            "[11]\tvalidation_0-merror:0.233241\tvalidation_1-merror:0.272583\n",
            "[12]\tvalidation_0-merror:0.226894\tvalidation_1-merror:0.275753\n",
            "[13]\tvalidation_0-merror:0.229274\tvalidation_1-merror:0.266244\n",
            "[14]\tvalidation_0-merror:0.217374\tvalidation_1-merror:0.259905\n",
            "[15]\tvalidation_0-merror:0.220547\tvalidation_1-merror:0.256735\n",
            "[16]\tvalidation_0-merror:0.214994\tvalidation_1-merror:0.256735\n",
            "[17]\tvalidation_0-merror:0.213407\tvalidation_1-merror:0.253566\n",
            "[18]\tvalidation_0-merror:0.213804\tvalidation_1-merror:0.25832\n",
            "[19]\tvalidation_0-merror:0.213407\tvalidation_1-merror:0.256735\n",
            "[20]\tvalidation_0-merror:0.210631\tvalidation_1-merror:0.253566\n",
            "[21]\tvalidation_0-merror:0.209837\tvalidation_1-merror:0.263074\n",
            "[22]\tvalidation_0-merror:0.207061\tvalidation_1-merror:0.266244\n",
            "[23]\tvalidation_0-merror:0.203094\tvalidation_1-merror:0.259905\n",
            "[24]\tvalidation_0-merror:0.199127\tvalidation_1-merror:0.263074\n",
            "[25]\tvalidation_0-merror:0.195557\tvalidation_1-merror:0.253566\n",
            "[26]\tvalidation_0-merror:0.196351\tvalidation_1-merror:0.251981\n",
            "[27]\tvalidation_0-merror:0.195161\tvalidation_1-merror:0.240887\n",
            "[28]\tvalidation_0-merror:0.191194\tvalidation_1-merror:0.242472\n",
            "[29]\tvalidation_0-merror:0.189607\tvalidation_1-merror:0.237718\n",
            "[30]\tvalidation_0-merror:0.189607\tvalidation_1-merror:0.236133\n",
            "[31]\tvalidation_0-merror:0.189211\tvalidation_1-merror:0.229794\n",
            "[32]\tvalidation_0-merror:0.188814\tvalidation_1-merror:0.220285\n",
            "[33]\tvalidation_0-merror:0.183261\tvalidation_1-merror:0.2187\n",
            "[34]\tvalidation_0-merror:0.182467\tvalidation_1-merror:0.22187\n",
            "[35]\tvalidation_0-merror:0.180087\tvalidation_1-merror:0.223455\n",
            "[36]\tvalidation_0-merror:0.177707\tvalidation_1-merror:0.226624\n",
            "[37]\tvalidation_0-merror:0.173741\tvalidation_1-merror:0.228209\n",
            "[38]\tvalidation_0-merror:0.170171\tvalidation_1-merror:0.228209\n",
            "[39]\tvalidation_0-merror:0.169377\tvalidation_1-merror:0.232964\n",
            "[40]\tvalidation_0-merror:0.170567\tvalidation_1-merror:0.232964\n",
            "[41]\tvalidation_0-merror:0.168981\tvalidation_1-merror:0.236133\n",
            "[42]\tvalidation_0-merror:0.166204\tvalidation_1-merror:0.232964\n",
            "[43]\tvalidation_0-merror:0.163427\tvalidation_1-merror:0.232964\n",
            "[44]\tvalidation_0-merror:0.163824\tvalidation_1-merror:0.229794\n",
            "[45]\tvalidation_0-merror:0.161047\tvalidation_1-merror:0.228209\n",
            "[46]\tvalidation_0-merror:0.160651\tvalidation_1-merror:0.229794\n",
            "[47]\tvalidation_0-merror:0.160651\tvalidation_1-merror:0.231379\n",
            "[48]\tvalidation_0-merror:0.159461\tvalidation_1-merror:0.234548\n",
            "[49]\tvalidation_0-merror:0.156287\tvalidation_1-merror:0.234548\n",
            "[50]\tvalidation_0-merror:0.156684\tvalidation_1-merror:0.236133\n",
            "[51]\tvalidation_0-merror:0.155097\tvalidation_1-merror:0.239303\n",
            "[52]\tvalidation_0-merror:0.154304\tvalidation_1-merror:0.236133\n",
            "[53]\tvalidation_0-merror:0.155891\tvalidation_1-merror:0.231379\n",
            "[54]\tvalidation_0-merror:0.151924\tvalidation_1-merror:0.231379\n",
            "[55]\tvalidation_0-merror:0.150337\tvalidation_1-merror:0.231379\n",
            "[56]\tvalidation_0-merror:0.149147\tvalidation_1-merror:0.232964\n",
            "[57]\tvalidation_0-merror:0.148354\tvalidation_1-merror:0.226624\n",
            "[58]\tvalidation_0-merror:0.148354\tvalidation_1-merror:0.226624\n",
            "[59]\tvalidation_0-merror:0.14637\tvalidation_1-merror:0.228209\n",
            "[60]\tvalidation_0-merror:0.144784\tvalidation_1-merror:0.220285\n",
            "[61]\tvalidation_0-merror:0.143594\tvalidation_1-merror:0.220285\n",
            "[62]\tvalidation_0-merror:0.1428\tvalidation_1-merror:0.22504\n",
            "[63]\tvalidation_0-merror:0.141214\tvalidation_1-merror:0.22504\n",
            "[64]\tvalidation_0-merror:0.138834\tvalidation_1-merror:0.226624\n",
            "[65]\tvalidation_0-merror:0.138834\tvalidation_1-merror:0.223455\n",
            "[66]\tvalidation_0-merror:0.136057\tvalidation_1-merror:0.22187\n",
            "[67]\tvalidation_0-merror:0.135264\tvalidation_1-merror:0.220285\n",
            "[68]\tvalidation_0-merror:0.13447\tvalidation_1-merror:0.223455\n",
            "[69]\tvalidation_0-merror:0.134074\tvalidation_1-merror:0.220285\n",
            "[70]\tvalidation_0-merror:0.132487\tvalidation_1-merror:0.22504\n",
            "[71]\tvalidation_0-merror:0.132487\tvalidation_1-merror:0.217116\n",
            "[72]\tvalidation_0-merror:0.1309\tvalidation_1-merror:0.215531\n",
            "[73]\tvalidation_0-merror:0.1309\tvalidation_1-merror:0.212361\n",
            "[74]\tvalidation_0-merror:0.12733\tvalidation_1-merror:0.213946\n",
            "[75]\tvalidation_0-merror:0.128124\tvalidation_1-merror:0.213946\n",
            "[76]\tvalidation_0-merror:0.126537\tvalidation_1-merror:0.213946\n",
            "[77]\tvalidation_0-merror:0.12495\tvalidation_1-merror:0.212361\n",
            "[78]\tvalidation_0-merror:0.12257\tvalidation_1-merror:0.210777\n",
            "[79]\tvalidation_0-merror:0.119794\tvalidation_1-merror:0.210777\n",
            "[80]\tvalidation_0-merror:0.119\tvalidation_1-merror:0.213946\n",
            "[81]\tvalidation_0-merror:0.12019\tvalidation_1-merror:0.212361\n",
            "[82]\tvalidation_0-merror:0.11543\tvalidation_1-merror:0.215531\n",
            "[83]\tvalidation_0-merror:0.116224\tvalidation_1-merror:0.213946\n",
            "[84]\tvalidation_0-merror:0.11662\tvalidation_1-merror:0.212361\n",
            "[85]\tvalidation_0-merror:0.115827\tvalidation_1-merror:0.215531\n",
            "[86]\tvalidation_0-merror:0.113447\tvalidation_1-merror:0.217116\n",
            "[87]\tvalidation_0-merror:0.112654\tvalidation_1-merror:0.2187\n",
            "[88]\tvalidation_0-merror:0.11186\tvalidation_1-merror:0.213946\n",
            "[89]\tvalidation_0-merror:0.111464\tvalidation_1-merror:0.220285\n",
            "[90]\tvalidation_0-merror:0.110274\tvalidation_1-merror:0.22187\n",
            "[91]\tvalidation_0-merror:0.109084\tvalidation_1-merror:0.217116\n",
            "[92]\tvalidation_0-merror:0.108687\tvalidation_1-merror:0.2187\n",
            "[93]\tvalidation_0-merror:0.107497\tvalidation_1-merror:0.220285\n",
            "[94]\tvalidation_0-merror:0.109084\tvalidation_1-merror:0.217116\n",
            "[95]\tvalidation_0-merror:0.107894\tvalidation_1-merror:0.213946\n",
            "[96]\tvalidation_0-merror:0.10472\tvalidation_1-merror:0.220285\n",
            "[97]\tvalidation_0-merror:0.104324\tvalidation_1-merror:0.22187\n",
            "[98]\tvalidation_0-merror:0.10353\tvalidation_1-merror:0.2187\n",
            "[99]\tvalidation_0-merror:0.10353\tvalidation_1-merror:0.223455\n",
            "accuracy: 0.78%\n"
          ],
          "name": "stdout"
        },
        {
          "output_type": "display_data",
          "data": {
            "image/png": "[encoded data removed]",
            "text/plain": [
              "<Figure size 432x288 with 1 Axes>"
            ]
          },
          "metadata": {
            "tags": [],
            "needs_background": "light"
          }
        }
      ]
    },
    {
      "cell_type": "code",
      "metadata": {
        "id": "n_b2J0AGGrUl",
        "colab_type": "code",
        "colab": {}
      },
      "source": [
        "from sklearn.ensemble import  VotingClassifier\n",
        "mlpxgb = VotingClassifier(estimators=[('xgb', xgb), ('mlp', MLP)], voting='hard')\n",
        "mlpxgb = mlpxgb.fit(x_train, y_train)"
      ],
      "execution_count": 0,
      "outputs": []
    },
    {
      "cell_type": "code",
      "metadata": {
        "id": "5-9AVQRziFvO",
        "colab_type": "code",
        "colab": {}
      },
      "source": [
        "mlp_pred = MLP.predict(x_test)\n",
        "xgb_pred = xgb.predict(x_test)\n",
        "mlpxgb_pred = mlpxgb.predict(x_test)"
      ],
      "execution_count": 0,
      "outputs": []
    },
    {
      "cell_type": "code",
      "metadata": {
        "id": "vRlLq0-khPiY",
        "colab_type": "code",
        "colab": {}
      },
      "source": [
        "hx_test, hy_test = load_data_test()\n",
        "mlphy_pred = MLP.predict(hx_test)\n",
        "xgbhy_pred = xgb.predict(hx_test)\n",
        "mlpxgbhy_pred = mlpxgb.predict(hx_test)"
      ],
      "execution_count": 0,
      "outputs": []
    },
    {
      "cell_type": "code",
      "metadata": {
        "id": "iVYImAYQngIx",
        "colab_type": "code",
        "outputId": "e385f5fb-2be8-4e2f-eb98-d6163baa2c5b",
        "colab": {
          "base_uri": "https://localhost:8080/",
          "height": 68
        }
      },
      "source": [
        "accuracy = accuracy_score(y_true = hy_test, y_pred = mlphy_pred)\n",
        "#Print the accuracy\n",
        "print(\"Accuracy for MLP: {:.2f}%\".format(accuracy*100))\n",
        "\n",
        "accuracy = accuracy_score(y_true = hy_test, y_pred = xgbhy_pred)\n",
        "#Print the accuracy\n",
        "print(\"Accuracy for xgBoost: {:.2f}%\".format(accuracy*100))\n",
        "\n",
        "accuracy = accuracy_score(y_true = hy_test, y_pred = mlpxgbhy_pred)\n",
        "#Print the accuracy\n",
        "print(\"Accuracy for ensemble: {:.2f}%\".format(accuracy*100))"
      ],
      "execution_count": 0,
      "outputs": [
        {
          "output_type": "stream",
          "text": [
            "Accuracy for MLP: 44.44%\n",
            "Accuracy for xgBoost: 33.33%\n",
            "Accuracy for ensemble: 44.44%\n"
          ],
          "name": "stdout"
        }
      ]
    },
    {
      "cell_type": "code",
      "metadata": {
        "id": "g_cKAaauLiUu",
        "colab_type": "code",
        "outputId": "391b9601-1d36-4955-e121-c9a3b5377633",
        "colab": {
          "base_uri": "https://localhost:8080/",
          "height": 85
        }
      },
      "source": [
        "print(\"mlp: {}\".format(mlphy_pred))\n",
        "print(\"xgb: {}\".format(xgbhy_pred))\n",
        "print(\"mlpxgb: {}\".format(mlpxgbhy_pred))\n",
        "print(\"true: {}\".format(hy_test))\n",
        "train_xg = xgb.predict(x_train)\n",
        "train_mlp = MLP.predict(x_train)\n",
        "train_mlpxgb = mlpxgb.predict(x_train)\n"
      ],
      "execution_count": 0,
      "outputs": [
        {
          "output_type": "stream",
          "text": [
            "mlp: ['sad' 'sad' 'fearful' 'sad' 'sad' 'sad' 'surprised' 'sad' 'happy']\n",
            "xgb: ['calm' 'calm' 'angry' 'happy' 'angry' 'calm' 'happy' 'surprised' 'happy']\n",
            "mlpxgb: ['calm' 'calm' 'angry' 'happy' 'angry' 'calm' 'happy' 'happy' 'angry']\n",
            "true: ['calm', 'calm', 'fearful', 'calm', 'angry', 'sad', 'surprised', 'sad', 'angry']\n"
          ],
          "name": "stdout"
        }
      ]
    },
    {
      "cell_type": "code",
      "metadata": {
        "id": "ArzBCnxwDl0W",
        "colab_type": "code",
        "outputId": "8fb78fd4-cc92-4f84-c6ec-5c33cf0570c7",
        "colab": {
          "base_uri": "https://localhost:8080/",
          "height": 680
        }
      },
      "source": [
        "from sklearn.metrics import classification_report\n",
        "# print(classification_report(y_train, train_xg, target_names=classes))\n",
        "# print(classification_report(y_train, train_mlp, target_names=classes))\n",
        "# print(classification_report(y_train, train_mlpxgb, target_names=classes))\n",
        "\n",
        "print(\"xgb: {}\".format(classification_report(y_test, xgb_pred, target_names=classes)))\n",
        "print(\"mlp: {}\".format(classification_report(y_test, mlp_pred, target_names=classes)))\n",
        "print(\"ensemble: {}\".format(classification_report(y_test, mlpxgb_pred, target_names=classes)))"
      ],
      "execution_count": 0,
      "outputs": [
        {
          "output_type": "stream",
          "text": [
            "xgb:               precision    recall  f1-score   support\n",
            "\n",
            "        calm       0.85      0.83      0.84       121\n",
            "       happy       0.51      0.59      0.55        34\n",
            "         sad       0.80      0.75      0.78       114\n",
            "       angry       0.77      0.76      0.76       120\n",
            "     fearful       0.76      0.72      0.74       119\n",
            "   surprised       0.79      0.87      0.83       123\n",
            "\n",
            "    accuracy                           0.78       631\n",
            "   macro avg       0.75      0.75      0.75       631\n",
            "weighted avg       0.78      0.78      0.78       631\n",
            "\n",
            "mlp:               precision    recall  f1-score   support\n",
            "\n",
            "        calm       0.87      0.98      0.92       121\n",
            "       happy       0.87      0.59      0.70        34\n",
            "         sad       0.80      0.78      0.79       114\n",
            "       angry       0.87      0.81      0.84       120\n",
            "     fearful       0.78      0.82      0.80       119\n",
            "   surprised       0.80      0.80      0.80       123\n",
            "\n",
            "    accuracy                           0.83       631\n",
            "   macro avg       0.83      0.80      0.81       631\n",
            "weighted avg       0.83      0.83      0.82       631\n",
            "\n",
            "ensemble:               precision    recall  f1-score   support\n",
            "\n",
            "        calm       0.84      0.93      0.88       121\n",
            "       happy       0.50      0.76      0.60        34\n",
            "         sad       0.80      0.79      0.80       114\n",
            "       angry       0.79      0.74      0.77       120\n",
            "     fearful       0.81      0.75      0.78       119\n",
            "   surprised       0.91      0.83      0.87       123\n",
            "\n",
            "    accuracy                           0.81       631\n",
            "   macro avg       0.78      0.80      0.78       631\n",
            "weighted avg       0.81      0.81      0.81       631\n",
            "\n"
          ],
          "name": "stdout"
        }
      ]
    },
    {
      "cell_type": "code",
      "metadata": {
        "id": "31cRv001iIIe",
        "colab_type": "code",
        "outputId": "12f8f38d-95db-44c2-f600-eea5ddebd7f1",
        "colab": {
          "base_uri": "https://localhost:8080/",
          "height": 68
        }
      },
      "source": [
        "accuracy = accuracy_score(y_true = y_test, y_pred = mlp_pred)\n",
        "#Print the accuracy\n",
        "print(\"Accuracy for mlp: {:.2f}%\".format(accuracy*100))\n",
        "accuracy = accuracy_score(y_true = y_test, y_pred = xgb_pred)\n",
        "#Print the accuracy\n",
        "print(\"Accuracy for xgBoost: {:.2f}%\".format(accuracy*100))\n",
        "accuracy = accuracy_score(y_true = y_test, y_pred = mlpxgb_pred)\n",
        "#Print the accuracy\n",
        "print(\"Accuracy for mlpxgb: {:.2f}%\".format(accuracy*100))"
      ],
      "execution_count": 0,
      "outputs": [
        {
          "output_type": "stream",
          "text": [
            "Accuracy for mlp: 82.57%\n",
            "Accuracy for xgBoost: 77.65%\n",
            "Accuracy for mlpxgb: 80.51%\n"
          ],
          "name": "stdout"
        }
      ]
    },
    {
      "cell_type": "code",
      "metadata": {
        "id": "g9Bhrw30vVKp",
        "colab_type": "code",
        "colab": {}
      },
      "source": [
        "#1D CNN\n",
        "import keras\n",
        "from keras import regularizers\n",
        "from keras.models import Sequential, Model\n",
        "from keras.layers import Dense, Embedding\n",
        "from keras.layers import Input, Flatten, Dropout, Activation, BatchNormalization\n",
        "from keras.layers import Conv1D, MaxPooling1D\n",
        "from keras.utils import np_utils, to_categorical\n",
        "from keras import losses, models, optimizers\n",
        "from keras.activations import relu, softmax\n",
        "# sklearn\n",
        "from sklearn.preprocessing import LabelEncoder"
      ],
      "execution_count": 0,
      "outputs": []
    },
    {
      "cell_type": "code",
      "metadata": {
        "id": "qYfkFYciyTAF",
        "colab_type": "code",
        "outputId": "993481b4-c870-4af5-9e7e-340a2a51c165",
        "colab": {
          "base_uri": "https://localhost:8080/",
          "height": 51
        }
      },
      "source": [
        "\n",
        "# preparation steps to get it into the correct format for Keras \n",
        "X_train = np.array(x_train)\n",
        "y_train = np.array(y_train)\n",
        "X_test = np.array(x_test)\n",
        "y_test = np.array(y_test)\n",
        "\n",
        "# one hot encode the target \n",
        "lb = LabelEncoder()\n",
        "y_train = np_utils.to_categorical(lb.fit_transform(y_train))\n",
        "y_test = np_utils.to_categorical(lb.fit_transform(y_test))\n",
        "\n",
        "print(X_train.shape)\n",
        "print(lb.classes_)"
      ],
      "execution_count": 0,
      "outputs": [
        {
          "output_type": "stream",
          "text": [
            "(2521, 30)\n",
            "['angry' 'calm' 'fearful' 'happy' 'sad' 'surprised']\n"
          ],
          "name": "stdout"
        }
      ]
    },
    {
      "cell_type": "code",
      "metadata": {
        "id": "nqrq6QLPu3SJ",
        "colab_type": "code",
        "outputId": "ae9196d1-1910-4fcd-ebeb-bc5e6930ed96",
        "colab": {
          "base_uri": "https://localhost:8080/",
          "height": 34
        }
      },
      "source": [
        "X_train = np.expand_dims(X_train, axis=2)\n",
        "X_test = np.expand_dims(X_test, axis=2)\n",
        "X_train.shape\n",
        "#Dimension preps for 1D CNN"
      ],
      "execution_count": 0,
      "outputs": [
        {
          "output_type": "execute_result",
          "data": {
            "text/plain": [
              "(2521, 30, 1)"
            ]
          },
          "metadata": {
            "tags": []
          },
          "execution_count": 240
        }
      ]
    },
    {
      "cell_type": "code",
      "metadata": {
        "id": "Ki7-dvoWEthk",
        "colab_type": "code",
        "outputId": "5e5dc239-46fc-4458-c3f0-8e2a1e5eb216",
        "colab": {
          "base_uri": "https://localhost:8080/",
          "height": 1000
        }
      },
      "source": [
        "model = Sequential()\n",
        "model.add(Conv1D(256, 8, padding='same',input_shape=(X_train.shape[1],1)))  # X_train.shape[1] = No. of Columns\n",
        "model.add(Activation('relu'))\n",
        "model.add(Conv1D(256, 8, padding='same'))\n",
        "model.add(BatchNormalization())\n",
        "model.add(Activation('relu'))\n",
        "model.add(Dropout(0.25))\n",
        "model.add(MaxPooling1D(pool_size=(6)))\n",
        "model.add(Conv1D(128, 8, padding='same'))\n",
        "model.add(Activation('relu'))\n",
        "model.add(Conv1D(128, 8, padding='same'))\n",
        "model.add(Activation('relu'))\n",
        "model.add(Conv1D(128, 8, padding='same'))\n",
        "model.add(Activation('relu'))\n",
        "model.add(Conv1D(128, 8, padding='same'))\n",
        "model.add(BatchNormalization())\n",
        "model.add(Activation('relu'))\n",
        "model.add(Dropout(0.25))\n",
        "model.add(MaxPooling1D(pool_size=(5)))\n",
        "model.add(Conv1D(64, 8, padding='same'))\n",
        "model.add(Activation('relu'))\n",
        "model.add(Conv1D(64, 8, padding='same'))\n",
        "model.add(Activation('relu'))\n",
        "model.add(Flatten())\n",
        "model.add(Dense(6)) # Target class number\n",
        "model.add(Activation('softmax'))\n",
        "opt = keras.optimizers.rmsprop(lr=0.00001, decay=1e-6)\n",
        "model.summary()"
      ],
      "execution_count": 0,
      "outputs": [
        {
          "output_type": "stream",
          "text": [
            "Model: \"sequential_1\"\n",
            "_________________________________________________________________\n",
            "Layer (type)                 Output Shape              Param #   \n",
            "=================================================================\n",
            "conv1d_1 (Conv1D)            (None, 30, 256)           2304      \n",
            "_________________________________________________________________\n",
            "activation_1 (Activation)    (None, 30, 256)           0         \n",
            "_________________________________________________________________\n",
            "conv1d_2 (Conv1D)            (None, 30, 256)           524544    \n",
            "_________________________________________________________________\n",
            "batch_normalization_1 (Batch (None, 30, 256)           1024      \n",
            "_________________________________________________________________\n",
            "activation_2 (Activation)    (None, 30, 256)           0         \n",
            "_________________________________________________________________\n",
            "dropout_1 (Dropout)          (None, 30, 256)           0         \n",
            "_________________________________________________________________\n",
            "max_pooling1d_1 (MaxPooling1 (None, 5, 256)            0         \n",
            "_________________________________________________________________\n",
            "conv1d_3 (Conv1D)            (None, 5, 128)            262272    \n",
            "_________________________________________________________________\n",
            "activation_3 (Activation)    (None, 5, 128)            0         \n",
            "_________________________________________________________________\n",
            "conv1d_4 (Conv1D)            (None, 5, 128)            131200    \n",
            "_________________________________________________________________\n",
            "activation_4 (Activation)    (None, 5, 128)            0         \n",
            "_________________________________________________________________\n",
            "conv1d_5 (Conv1D)            (None, 5, 128)            131200    \n",
            "_________________________________________________________________\n",
            "activation_5 (Activation)    (None, 5, 128)            0         \n",
            "_________________________________________________________________\n",
            "conv1d_6 (Conv1D)            (None, 5, 128)            131200    \n",
            "_________________________________________________________________\n",
            "batch_normalization_2 (Batch (None, 5, 128)            512       \n",
            "_________________________________________________________________\n",
            "activation_6 (Activation)    (None, 5, 128)            0         \n",
            "_________________________________________________________________\n",
            "dropout_2 (Dropout)          (None, 5, 128)            0         \n",
            "_________________________________________________________________\n",
            "max_pooling1d_2 (MaxPooling1 (None, 1, 128)            0         \n",
            "_________________________________________________________________\n",
            "conv1d_7 (Conv1D)            (None, 1, 64)             65600     \n",
            "_________________________________________________________________\n",
            "activation_7 (Activation)    (None, 1, 64)             0         \n",
            "_________________________________________________________________\n",
            "conv1d_8 (Conv1D)            (None, 1, 64)             32832     \n",
            "_________________________________________________________________\n",
            "activation_8 (Activation)    (None, 1, 64)             0         \n",
            "_________________________________________________________________\n",
            "flatten_1 (Flatten)          (None, 64)                0         \n",
            "_________________________________________________________________\n",
            "dense_1 (Dense)              (None, 6)                 390       \n",
            "_________________________________________________________________\n",
            "activation_9 (Activation)    (None, 6)                 0         \n",
            "=================================================================\n",
            "Total params: 1,283,078\n",
            "Trainable params: 1,282,310\n",
            "Non-trainable params: 768\n",
            "_________________________________________________________________\n"
          ],
          "name": "stdout"
        }
      ]
    },
    {
      "cell_type": "code",
      "metadata": {
        "id": "N9I-MZnwyl1a",
        "colab_type": "code",
        "outputId": "8afb457f-356b-4d50-976a-4f5e1e6edd15",
        "colab": {
          "base_uri": "https://localhost:8080/",
          "height": 1000
        }
      },
      "source": [
        "#train\n",
        "model.compile(loss='categorical_crossentropy', optimizer=opt,metrics=['accuracy'])\n",
        "model_history=model.fit(X_train, y_train, batch_size=128, epochs=100, validation_data=(X_test, y_test))"
      ],
      "execution_count": 0,
      "outputs": [
        {
          "output_type": "stream",
          "text": [
            "Train on 2521 samples, validate on 631 samples\n",
            "Epoch 1/100\n",
            "2521/2521 [==============================] - 13s 5ms/step - loss: 1.7902 - accuracy: 0.1277 - val_loss: 1.7934 - val_accuracy: 0.0539\n",
            "Epoch 2/100\n",
            "2521/2521 [==============================] - 12s 5ms/step - loss: 1.7624 - accuracy: 0.2372 - val_loss: 1.7900 - val_accuracy: 0.0555\n",
            "Epoch 3/100\n",
            "2521/2521 [==============================] - 12s 5ms/step - loss: 1.7442 - accuracy: 0.3197 - val_loss: 1.7859 - val_accuracy: 0.1506\n",
            "Epoch 4/100\n",
            "2521/2521 [==============================] - 12s 5ms/step - loss: 1.7253 - accuracy: 0.3570 - val_loss: 1.7814 - val_accuracy: 0.2187\n",
            "Epoch 5/100\n",
            "2521/2521 [==============================] - 12s 5ms/step - loss: 1.7053 - accuracy: 0.3943 - val_loss: 1.7755 - val_accuracy: 0.2631\n",
            "Epoch 6/100\n",
            "2521/2521 [==============================] - 12s 5ms/step - loss: 1.6808 - accuracy: 0.4248 - val_loss: 1.7677 - val_accuracy: 0.3613\n",
            "Epoch 7/100\n",
            "2521/2521 [==============================] - 12s 5ms/step - loss: 1.6551 - accuracy: 0.4470 - val_loss: 1.7597 - val_accuracy: 0.4152\n",
            "Epoch 8/100\n",
            "2521/2521 [==============================] - 12s 5ms/step - loss: 1.6267 - accuracy: 0.4681 - val_loss: 1.7509 - val_accuracy: 0.4992\n",
            "Epoch 9/100\n",
            "2521/2521 [==============================] - 12s 5ms/step - loss: 1.5961 - accuracy: 0.4990 - val_loss: 1.7411 - val_accuracy: 0.5388\n",
            "Epoch 10/100\n",
            "2521/2521 [==============================] - 12s 5ms/step - loss: 1.5668 - accuracy: 0.5089 - val_loss: 1.7295 - val_accuracy: 0.5436\n",
            "Epoch 11/100\n",
            "2521/2521 [==============================] - 12s 5ms/step - loss: 1.5380 - accuracy: 0.5347 - val_loss: 1.7205 - val_accuracy: 0.5452\n",
            "Epoch 12/100\n",
            "2521/2521 [==============================] - 12s 5ms/step - loss: 1.5103 - accuracy: 0.5498 - val_loss: 1.7055 - val_accuracy: 0.5547\n",
            "Epoch 13/100\n",
            "2521/2521 [==============================] - 12s 5ms/step - loss: 1.4823 - accuracy: 0.5534 - val_loss: 1.6893 - val_accuracy: 0.5483\n",
            "Epoch 14/100\n",
            "2521/2521 [==============================] - 12s 5ms/step - loss: 1.4537 - accuracy: 0.5680 - val_loss: 1.6677 - val_accuracy: 0.5499\n",
            "Epoch 15/100\n",
            "2521/2521 [==============================] - 12s 5ms/step - loss: 1.4271 - accuracy: 0.5839 - val_loss: 1.6462 - val_accuracy: 0.5769\n",
            "Epoch 16/100\n",
            "2521/2521 [==============================] - 12s 5ms/step - loss: 1.4031 - accuracy: 0.5875 - val_loss: 1.6283 - val_accuracy: 0.5784\n",
            "Epoch 17/100\n",
            "2521/2521 [==============================] - 12s 5ms/step - loss: 1.3776 - accuracy: 0.5970 - val_loss: 1.6050 - val_accuracy: 0.5864\n",
            "Epoch 18/100\n",
            "2521/2521 [==============================] - 12s 5ms/step - loss: 1.3515 - accuracy: 0.5934 - val_loss: 1.5849 - val_accuracy: 0.5895\n",
            "Epoch 19/100\n",
            "2521/2521 [==============================] - 12s 5ms/step - loss: 1.3260 - accuracy: 0.6129 - val_loss: 1.5479 - val_accuracy: 0.5911\n",
            "Epoch 20/100\n",
            "2521/2521 [==============================] - 12s 5ms/step - loss: 1.3049 - accuracy: 0.6224 - val_loss: 1.5247 - val_accuracy: 0.6054\n",
            "Epoch 21/100\n",
            "2521/2521 [==============================] - 12s 5ms/step - loss: 1.2774 - accuracy: 0.6248 - val_loss: 1.4965 - val_accuracy: 0.6101\n",
            "Epoch 22/100\n",
            "2521/2521 [==============================] - 12s 5ms/step - loss: 1.2603 - accuracy: 0.6319 - val_loss: 1.4708 - val_accuracy: 0.6165\n",
            "Epoch 23/100\n",
            "2521/2521 [==============================] - 12s 5ms/step - loss: 1.2364 - accuracy: 0.6406 - val_loss: 1.4418 - val_accuracy: 0.6086\n",
            "Epoch 24/100\n",
            "2521/2521 [==============================] - 12s 5ms/step - loss: 1.2141 - accuracy: 0.6501 - val_loss: 1.4174 - val_accuracy: 0.6197\n",
            "Epoch 25/100\n",
            "2521/2521 [==============================] - 12s 5ms/step - loss: 1.1933 - accuracy: 0.6497 - val_loss: 1.3874 - val_accuracy: 0.6133\n",
            "Epoch 26/100\n",
            "2521/2521 [==============================] - 12s 5ms/step - loss: 1.1738 - accuracy: 0.6529 - val_loss: 1.3572 - val_accuracy: 0.6212\n",
            "Epoch 27/100\n",
            "2521/2521 [==============================] - 12s 5ms/step - loss: 1.1539 - accuracy: 0.6478 - val_loss: 1.3326 - val_accuracy: 0.6307\n",
            "Epoch 28/100\n",
            "2521/2521 [==============================] - 12s 5ms/step - loss: 1.1353 - accuracy: 0.6624 - val_loss: 1.3082 - val_accuracy: 0.6323\n",
            "Epoch 29/100\n",
            "2521/2521 [==============================] - 12s 5ms/step - loss: 1.1180 - accuracy: 0.6585 - val_loss: 1.2893 - val_accuracy: 0.6387\n",
            "Epoch 30/100\n",
            "2521/2521 [==============================] - 12s 5ms/step - loss: 1.0990 - accuracy: 0.6680 - val_loss: 1.2653 - val_accuracy: 0.6513\n",
            "Epoch 31/100\n",
            "2521/2521 [==============================] - 12s 5ms/step - loss: 1.0788 - accuracy: 0.6783 - val_loss: 1.2399 - val_accuracy: 0.6513\n",
            "Epoch 32/100\n",
            "2521/2521 [==============================] - 12s 5ms/step - loss: 1.0606 - accuracy: 0.6815 - val_loss: 1.2221 - val_accuracy: 0.6656\n",
            "Epoch 33/100\n",
            "2521/2521 [==============================] - 12s 5ms/step - loss: 1.0414 - accuracy: 0.6827 - val_loss: 1.1993 - val_accuracy: 0.6656\n",
            "Epoch 34/100\n",
            "2521/2521 [==============================] - 12s 5ms/step - loss: 1.0298 - accuracy: 0.6874 - val_loss: 1.1824 - val_accuracy: 0.6767\n",
            "Epoch 35/100\n",
            "2521/2521 [==============================] - 12s 5ms/step - loss: 1.0125 - accuracy: 0.6930 - val_loss: 1.1610 - val_accuracy: 0.6846\n",
            "Epoch 36/100\n",
            "2521/2521 [==============================] - 12s 5ms/step - loss: 0.9949 - accuracy: 0.6973 - val_loss: 1.1470 - val_accuracy: 0.6941\n",
            "Epoch 37/100\n",
            "2521/2521 [==============================] - 12s 5ms/step - loss: 0.9748 - accuracy: 0.7073 - val_loss: 1.1292 - val_accuracy: 0.6941\n",
            "Epoch 38/100\n",
            "2521/2521 [==============================] - 12s 5ms/step - loss: 0.9612 - accuracy: 0.7144 - val_loss: 1.1143 - val_accuracy: 0.7005\n",
            "Epoch 39/100\n",
            "2521/2521 [==============================] - 13s 5ms/step - loss: 0.9514 - accuracy: 0.7092 - val_loss: 1.0868 - val_accuracy: 0.7068\n",
            "Epoch 40/100\n",
            "2521/2521 [==============================] - 14s 6ms/step - loss: 0.9325 - accuracy: 0.7207 - val_loss: 1.0800 - val_accuracy: 0.7163\n",
            "Epoch 41/100\n",
            "2521/2521 [==============================] - 12s 5ms/step - loss: 0.9185 - accuracy: 0.7188 - val_loss: 1.0677 - val_accuracy: 0.7227\n",
            "Epoch 42/100\n",
            "2521/2521 [==============================] - 12s 5ms/step - loss: 0.9090 - accuracy: 0.7267 - val_loss: 1.0471 - val_accuracy: 0.7195\n",
            "Epoch 43/100\n",
            "2521/2521 [==============================] - 12s 5ms/step - loss: 0.8932 - accuracy: 0.7176 - val_loss: 1.0329 - val_accuracy: 0.7179\n",
            "Epoch 44/100\n",
            "2521/2521 [==============================] - 12s 5ms/step - loss: 0.8775 - accuracy: 0.7386 - val_loss: 1.0198 - val_accuracy: 0.7322\n",
            "Epoch 45/100\n",
            "2521/2521 [==============================] - 12s 5ms/step - loss: 0.8658 - accuracy: 0.7370 - val_loss: 1.0103 - val_accuracy: 0.7258\n",
            "Epoch 46/100\n",
            "2521/2521 [==============================] - 12s 5ms/step - loss: 0.8508 - accuracy: 0.7453 - val_loss: 0.9954 - val_accuracy: 0.7290\n",
            "Epoch 47/100\n",
            "2521/2521 [==============================] - 12s 5ms/step - loss: 0.8398 - accuracy: 0.7449 - val_loss: 0.9826 - val_accuracy: 0.7401\n",
            "Epoch 48/100\n",
            "2521/2521 [==============================] - 12s 5ms/step - loss: 0.8280 - accuracy: 0.7434 - val_loss: 0.9714 - val_accuracy: 0.7480\n",
            "Epoch 49/100\n",
            "2521/2521 [==============================] - 12s 5ms/step - loss: 0.8163 - accuracy: 0.7469 - val_loss: 0.9551 - val_accuracy: 0.7385\n",
            "Epoch 50/100\n",
            "2521/2521 [==============================] - 12s 5ms/step - loss: 0.7995 - accuracy: 0.7501 - val_loss: 0.9339 - val_accuracy: 0.7448\n",
            "Epoch 51/100\n",
            "2521/2521 [==============================] - 12s 5ms/step - loss: 0.7897 - accuracy: 0.7517 - val_loss: 0.9338 - val_accuracy: 0.7464\n",
            "Epoch 52/100\n",
            "2521/2521 [==============================] - 12s 5ms/step - loss: 0.7801 - accuracy: 0.7513 - val_loss: 0.9163 - val_accuracy: 0.7480\n",
            "Epoch 53/100\n",
            "2521/2521 [==============================] - 12s 5ms/step - loss: 0.7700 - accuracy: 0.7592 - val_loss: 0.9024 - val_accuracy: 0.7623\n",
            "Epoch 54/100\n",
            "2521/2521 [==============================] - 12s 5ms/step - loss: 0.7662 - accuracy: 0.7557 - val_loss: 0.8947 - val_accuracy: 0.7639\n",
            "Epoch 55/100\n",
            "2521/2521 [==============================] - 12s 5ms/step - loss: 0.7499 - accuracy: 0.7596 - val_loss: 0.8820 - val_accuracy: 0.7623\n",
            "Epoch 56/100\n",
            "2521/2521 [==============================] - 12s 5ms/step - loss: 0.7417 - accuracy: 0.7560 - val_loss: 0.8736 - val_accuracy: 0.7607\n",
            "Epoch 57/100\n",
            "2521/2521 [==============================] - 12s 5ms/step - loss: 0.7278 - accuracy: 0.7660 - val_loss: 0.8649 - val_accuracy: 0.7559\n",
            "Epoch 58/100\n",
            "2521/2521 [==============================] - 12s 5ms/step - loss: 0.7251 - accuracy: 0.7707 - val_loss: 0.8557 - val_accuracy: 0.7591\n",
            "Epoch 59/100\n",
            "2521/2521 [==============================] - 12s 5ms/step - loss: 0.7134 - accuracy: 0.7683 - val_loss: 0.8447 - val_accuracy: 0.7750\n",
            "Epoch 60/100\n",
            "2521/2521 [==============================] - 12s 5ms/step - loss: 0.7060 - accuracy: 0.7672 - val_loss: 0.8369 - val_accuracy: 0.7686\n",
            "Epoch 61/100\n",
            "2521/2521 [==============================] - 12s 5ms/step - loss: 0.6966 - accuracy: 0.7683 - val_loss: 0.8196 - val_accuracy: 0.7781\n",
            "Epoch 62/100\n",
            "2521/2521 [==============================] - 12s 5ms/step - loss: 0.6871 - accuracy: 0.7660 - val_loss: 0.8066 - val_accuracy: 0.7781\n",
            "Epoch 63/100\n",
            "2521/2521 [==============================] - 12s 5ms/step - loss: 0.6771 - accuracy: 0.7798 - val_loss: 0.8065 - val_accuracy: 0.7702\n",
            "Epoch 64/100\n",
            "2521/2521 [==============================] - 12s 5ms/step - loss: 0.6698 - accuracy: 0.7783 - val_loss: 0.7952 - val_accuracy: 0.7734\n",
            "Epoch 65/100\n",
            "2521/2521 [==============================] - 12s 5ms/step - loss: 0.6685 - accuracy: 0.7759 - val_loss: 0.7869 - val_accuracy: 0.7829\n",
            "Epoch 66/100\n",
            "2521/2521 [==============================] - 12s 5ms/step - loss: 0.6599 - accuracy: 0.7866 - val_loss: 0.7749 - val_accuracy: 0.7924\n",
            "Epoch 67/100\n",
            "2521/2521 [==============================] - 12s 5ms/step - loss: 0.6512 - accuracy: 0.7850 - val_loss: 0.7708 - val_accuracy: 0.7829\n",
            "Epoch 68/100\n",
            "2521/2521 [==============================] - 12s 5ms/step - loss: 0.6473 - accuracy: 0.7838 - val_loss: 0.7642 - val_accuracy: 0.7845\n",
            "Epoch 69/100\n",
            "2521/2521 [==============================] - 12s 5ms/step - loss: 0.6410 - accuracy: 0.7795 - val_loss: 0.7658 - val_accuracy: 0.7750\n",
            "Epoch 70/100\n",
            "2521/2521 [==============================] - 12s 5ms/step - loss: 0.6383 - accuracy: 0.7842 - val_loss: 0.7457 - val_accuracy: 0.7813\n",
            "Epoch 71/100\n",
            "2521/2521 [==============================] - 12s 5ms/step - loss: 0.6211 - accuracy: 0.7886 - val_loss: 0.7460 - val_accuracy: 0.7845\n",
            "Epoch 72/100\n",
            "2521/2521 [==============================] - 12s 5ms/step - loss: 0.6243 - accuracy: 0.7870 - val_loss: 0.7303 - val_accuracy: 0.7908\n",
            "Epoch 73/100\n",
            "2521/2521 [==============================] - 12s 5ms/step - loss: 0.6118 - accuracy: 0.7914 - val_loss: 0.7277 - val_accuracy: 0.7813\n",
            "Epoch 74/100\n",
            "2521/2521 [==============================] - 12s 5ms/step - loss: 0.6108 - accuracy: 0.7917 - val_loss: 0.7116 - val_accuracy: 0.8067\n",
            "Epoch 75/100\n",
            "2521/2521 [==============================] - 12s 5ms/step - loss: 0.6011 - accuracy: 0.7957 - val_loss: 0.7074 - val_accuracy: 0.7876\n",
            "Epoch 76/100\n",
            "2521/2521 [==============================] - 12s 5ms/step - loss: 0.5980 - accuracy: 0.7886 - val_loss: 0.6927 - val_accuracy: 0.7987\n",
            "Epoch 77/100\n",
            "2521/2521 [==============================] - 12s 5ms/step - loss: 0.5924 - accuracy: 0.7997 - val_loss: 0.6994 - val_accuracy: 0.7940\n",
            "Epoch 78/100\n",
            "2521/2521 [==============================] - 12s 5ms/step - loss: 0.5893 - accuracy: 0.8013 - val_loss: 0.6959 - val_accuracy: 0.7971\n",
            "Epoch 79/100\n",
            "2521/2521 [==============================] - 12s 5ms/step - loss: 0.5846 - accuracy: 0.7973 - val_loss: 0.6956 - val_accuracy: 0.7892\n",
            "Epoch 80/100\n",
            "2521/2521 [==============================] - 12s 5ms/step - loss: 0.5800 - accuracy: 0.8013 - val_loss: 0.6793 - val_accuracy: 0.8035\n",
            "Epoch 81/100\n",
            "2521/2521 [==============================] - 12s 5ms/step - loss: 0.5718 - accuracy: 0.7981 - val_loss: 0.6782 - val_accuracy: 0.8035\n",
            "Epoch 82/100\n",
            "2521/2521 [==============================] - 12s 5ms/step - loss: 0.5679 - accuracy: 0.8044 - val_loss: 0.6800 - val_accuracy: 0.8051\n",
            "Epoch 83/100\n",
            "2521/2521 [==============================] - 12s 5ms/step - loss: 0.5668 - accuracy: 0.8048 - val_loss: 0.6635 - val_accuracy: 0.8019\n",
            "Epoch 84/100\n",
            "2521/2521 [==============================] - 12s 5ms/step - loss: 0.5630 - accuracy: 0.8064 - val_loss: 0.6688 - val_accuracy: 0.8051\n",
            "Epoch 85/100\n",
            "2521/2521 [==============================] - 12s 5ms/step - loss: 0.5563 - accuracy: 0.7989 - val_loss: 0.6573 - val_accuracy: 0.8003\n",
            "Epoch 86/100\n",
            "2521/2521 [==============================] - 12s 5ms/step - loss: 0.5447 - accuracy: 0.8060 - val_loss: 0.6524 - val_accuracy: 0.8051\n",
            "Epoch 87/100\n",
            "2521/2521 [==============================] - 12s 5ms/step - loss: 0.5509 - accuracy: 0.8040 - val_loss: 0.6540 - val_accuracy: 0.7924\n",
            "Epoch 88/100\n",
            "2521/2521 [==============================] - 12s 5ms/step - loss: 0.5402 - accuracy: 0.8064 - val_loss: 0.6482 - val_accuracy: 0.7956\n",
            "Epoch 89/100\n",
            "2521/2521 [==============================] - 12s 5ms/step - loss: 0.5347 - accuracy: 0.8120 - val_loss: 0.6512 - val_accuracy: 0.7892\n",
            "Epoch 90/100\n",
            "2521/2521 [==============================] - 12s 5ms/step - loss: 0.5322 - accuracy: 0.8100 - val_loss: 0.6560 - val_accuracy: 0.7971\n",
            "Epoch 91/100\n",
            "2521/2521 [==============================] - 15s 6ms/step - loss: 0.5315 - accuracy: 0.8120 - val_loss: 0.6411 - val_accuracy: 0.8035\n",
            "Epoch 92/100\n",
            "2521/2521 [==============================] - 12s 5ms/step - loss: 0.5307 - accuracy: 0.8088 - val_loss: 0.6249 - val_accuracy: 0.8177\n",
            "Epoch 93/100\n",
            "2521/2521 [==============================] - 12s 5ms/step - loss: 0.5236 - accuracy: 0.8144 - val_loss: 0.6238 - val_accuracy: 0.8098\n",
            "Epoch 94/100\n",
            "2521/2521 [==============================] - 12s 5ms/step - loss: 0.5193 - accuracy: 0.8144 - val_loss: 0.6304 - val_accuracy: 0.8019\n",
            "Epoch 95/100\n",
            "2521/2521 [==============================] - 12s 5ms/step - loss: 0.5279 - accuracy: 0.8163 - val_loss: 0.6232 - val_accuracy: 0.8003\n",
            "Epoch 96/100\n",
            "2521/2521 [==============================] - 12s 5ms/step - loss: 0.5219 - accuracy: 0.8144 - val_loss: 0.6223 - val_accuracy: 0.8082\n",
            "Epoch 97/100\n",
            "2521/2521 [==============================] - 12s 5ms/step - loss: 0.5163 - accuracy: 0.8128 - val_loss: 0.6238 - val_accuracy: 0.8067\n",
            "Epoch 98/100\n",
            "2521/2521 [==============================] - 12s 5ms/step - loss: 0.5119 - accuracy: 0.8163 - val_loss: 0.6080 - val_accuracy: 0.8130\n",
            "Epoch 99/100\n",
            "2521/2521 [==============================] - 12s 5ms/step - loss: 0.5070 - accuracy: 0.8183 - val_loss: 0.6103 - val_accuracy: 0.8035\n",
            "Epoch 100/100\n",
            "2521/2521 [==============================] - 12s 5ms/step - loss: 0.4988 - accuracy: 0.8290 - val_loss: 0.5979 - val_accuracy: 0.8193\n"
          ],
          "name": "stdout"
        }
      ]
    },
    {
      "cell_type": "code",
      "metadata": {
        "id": "PFpV1lonMWen",
        "colab_type": "code",
        "outputId": "f6d36958-093f-4609-981c-26f7b931ea1a",
        "colab": {
          "base_uri": "https://localhost:8080/",
          "height": 607
        }
      },
      "source": [
        "#predict\n",
        "import matplotlib.pyplot as plt\n",
        "#model.compile(loss='categorical_crossentropy', optimizer=opt, metrics=['accuracy'])\n",
        "score = model.evaluate(X_test, y_test, verbose=0)\n",
        "print(\"%s: %.2f%%\" % (model.metrics_names[1], score[1]*100))\n",
        "\n",
        "print(model_history.history.keys())\n",
        "\n",
        "plt.plot(model_history.history['accuracy'])\n",
        "plt.plot(model_history.history['val_accuracy'])\n",
        "plt.title('model accuracy')\n",
        "plt.ylabel('accuracy')\n",
        "plt.xlabel('epoch')\n",
        "plt.legend(['train', 'val'], loc='upper left')\n",
        "plt.show()\n",
        "\n",
        "\n",
        "\n",
        "plt.plot(model_history.history['loss'])\n",
        "plt.plot(model_history.history['val_loss'])\n",
        "plt.title('model loss')\n",
        "plt.ylabel('loss')\n",
        "plt.xlabel('epoch')\n",
        "plt.legend(['train', 'val'], loc='upper left')\n",
        "plt.show()"
      ],
      "execution_count": 0,
      "outputs": [
        {
          "output_type": "stream",
          "text": [
            "accuracy: 81.93%\n",
            "dict_keys(['val_loss', 'val_accuracy', 'loss', 'accuracy'])\n"
          ],
          "name": "stdout"
        },
        {
          "output_type": "display_data",
          "data": {
            "image/png": "[encoded data removed]",
            "text/plain": [
              "<Figure size 432x288 with 1 Axes>"
            ]
          },
          "metadata": {
            "tags": [],
            "needs_background": "light"
          }
        },
        {
          "output_type": "display_data",
          "data": {
            "image/png": "[encoded data removed]",
            "text/plain": [
              "<Figure size 432x288 with 1 Axes>"
            ]
          },
          "metadata": {
            "tags": [],
            "needs_background": "light"
          }
        }
      ]
    },
    {
      "cell_type": "code",
      "metadata": {
        "id": "-fVXce3nSxQY",
        "colab_type": "code",
        "outputId": "99bf9c55-6f5a-47b5-dd79-7fb32c3036fb",
        "colab": {
          "base_uri": "https://localhost:8080/",
          "height": 34
        }
      },
      "source": [
        "# Save model and weights\n",
        "model_name = 'Emotion_Model-1D-CNN.h5'\n",
        "save_dir = os.path.join(os.getcwd(), 'saved_models')\n",
        "\n",
        "if not os.path.isdir(save_dir):\n",
        "    os.makedirs(save_dir)\n",
        "model_path = os.path.join(save_dir, model_name)\n",
        "model.save(model_path)\n",
        "print('Save model and weights at %s ' % model_path)\n",
        "\n",
        "# Save the model to disk\n",
        "model_json = model.to_json()\n",
        "with open(\"model_json.json\", \"w\") as json_file:\n",
        "    json_file.write(model_json)"
      ],
      "execution_count": 0,
      "outputs": [
        {
          "output_type": "stream",
          "text": [
            "Save model and weights at /content/saved_models/Emotion_Model-1D-CNN.h5 \n"
          ],
          "name": "stdout"
        }
      ]
    },
    {
      "cell_type": "code",
      "metadata": {
        "id": "2rpyCuJYN6Po",
        "colab_type": "code",
        "outputId": "9d90c4a8-63d1-4677-d0f9-fb48a2b84217",
        "colab": {
          "base_uri": "https://localhost:8080/",
          "height": 34
        }
      },
      "source": [
        "preds = model.predict(X_test, \n",
        "                         batch_size=16, \n",
        "                         verbose=1)\n",
        "\n",
        "preds=preds.argmax(axis=1)"
      ],
      "execution_count": 0,
      "outputs": [
        {
          "output_type": "stream",
          "text": [
            "631/631 [==============================] - 1s 852us/step\n"
          ],
          "name": "stdout"
        }
      ]
    },
    {
      "cell_type": "code",
      "metadata": {
        "id": "vcKLvcSvYmjL",
        "colab_type": "code",
        "colab": {}
      },
      "source": [
        "# hy_test1 = np_utils.to_categorical(lb.fit_transform(hy_test))\n",
        "hx_test1 = np.expand_dims(hx_test, axis=2)\n",
        "hy_preds =model.predict(hx_test1)\n",
        "\n",
        "hy_preds = hy_preds.argmax(axis=1)\n"
      ],
      "execution_count": 0,
      "outputs": []
    },
    {
      "cell_type": "code",
      "metadata": {
        "id": "auTvHCLrgUt1",
        "colab_type": "code",
        "colab": {}
      },
      "source": [
        "hy_preds = hy_preds.astype(int).flatten()\n",
        "hy_preds = (lb.inverse_transform((hy_preds)))\n",
        "# hy_preds = (lb.inverse_transform((hy_preds)))"
      ],
      "execution_count": 0,
      "outputs": []
    },
    {
      "cell_type": "code",
      "metadata": {
        "id": "RVFgN_x-idYB",
        "colab_type": "code",
        "outputId": "1b68f1a0-de9a-4edd-94b4-b1f03f91f32c",
        "colab": {
          "base_uri": "https://localhost:8080/",
          "height": 51
        }
      },
      "source": [
        "print(hy_preds)\n",
        "print(hy_test)"
      ],
      "execution_count": 0,
      "outputs": [
        {
          "output_type": "stream",
          "text": [
            "['sad' 'sad' 'angry' 'fearful' 'sad' 'sad' 'fearful' 'sad' 'angry']\n",
            "['calm_1.wav', 'calm_3.wav', 'fearful_1.wav', 'calm_2.wav', 'angry_1.wav', 'sad_3.wav', 'surprised_1.wav', 'sad_2.wav', 'angry_2.wav']\n"
          ],
          "name": "stdout"
        }
      ]
    },
    {
      "cell_type": "code",
      "metadata": {
        "id": "S3cFxh_BJzhe",
        "colab_type": "code",
        "colab": {}
      },
      "source": [
        "preds1 = preds.astype(int).flatten()\n",
        "preds1 = (lb.inverse_transform((preds1)))\n",
        "#preds1 = (lb.inverse_transform((preds1)))\n",
        "actual= y_test.argmax(axis=1)\n",
        "actual = actual.astype(int).flatten()\n",
        "actual = (lb.inverse_transform((actual)))"
      ],
      "execution_count": 0,
      "outputs": []
    },
    {
      "cell_type": "code",
      "metadata": {
        "id": "alzNpp83JnkF",
        "colab_type": "code",
        "outputId": "63bb418d-ad80-49c1-a074-94ba6d127196",
        "colab": {
          "base_uri": "https://localhost:8080/",
          "height": 238
        }
      },
      "source": [
        "#print confusion matrix\n",
        "print(classification_report(actual, preds1, target_names=classes))"
      ],
      "execution_count": 0,
      "outputs": [
        {
          "output_type": "stream",
          "text": [
            "              precision    recall  f1-score   support\n",
            "\n",
            "        calm       0.89      0.89      0.89       121\n",
            "       happy       0.51      0.82      0.63        34\n",
            "         sad       0.79      0.84      0.82       114\n",
            "       angry       0.84      0.81      0.82       120\n",
            "     fearful       0.88      0.71      0.79       119\n",
            "   surprised       0.85      0.84      0.84       123\n",
            "\n",
            "    accuracy                           0.82       631\n",
            "   macro avg       0.79      0.82      0.80       631\n",
            "weighted avg       0.83      0.82      0.82       631\n",
            "\n"
          ],
          "name": "stdout"
        }
      ]
    }
  ]
}